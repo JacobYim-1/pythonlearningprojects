{
 "cells": [
  {
   "cell_type": "code",
   "execution_count": 1,
   "metadata": {},
   "outputs": [],
   "source": [
    "def tldF():\n",
    "    s=input('What is your site? \\n')\n",
    "    if '.gov'in s:\n",
    "        print('Your website is a government site.')\n",
    "    elif '.edu' in s:\n",
    "        print('Your website is a education site.')\n",
    "    elif '.org' in s:\n",
    "        print('Your website is a organization site.')\n",
    "    elif '.com' in s:\n",
    "        print('Your website is a company site.')"
   ]
  },
  {
   "cell_type": "code",
   "execution_count": 2,
   "metadata": {},
   "outputs": [
    {
     "name": "stdout",
     "output_type": "stream",
     "text": [
      "What is your site? \n",
      "www.mtsac.edu\n",
      "Your website is a education site.\n"
     ]
    }
   ],
   "source": [
    "tldF()"
   ]
  },
  {
   "cell_type": "code",
   "execution_count": null,
   "metadata": {},
   "outputs": [],
   "source": []
  }
 ],
 "metadata": {
  "kernelspec": {
   "display_name": "Python 3",
   "language": "python",
   "name": "python3"
  },
  "language_info": {
   "codemirror_mode": {
    "name": "ipython",
    "version": 3
   },
   "file_extension": ".py",
   "mimetype": "text/x-python",
   "name": "python",
   "nbconvert_exporter": "python",
   "pygments_lexer": "ipython3",
   "version": "3.7.3"
  }
 },
 "nbformat": 4,
 "nbformat_minor": 2
}
