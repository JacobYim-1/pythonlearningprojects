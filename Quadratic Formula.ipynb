{
 "cells": [
  {
   "cell_type": "code",
   "execution_count": 1,
   "metadata": {},
   "outputs": [],
   "source": [
    "def qForm(a,b,c):\n",
    "    d=b**2-4*a*c\n",
    "    y=2*a\n",
    "    if y==0:\n",
    "        print('Limit DNE')\n",
    "    elif d<0:\n",
    "        print('Undefined')\n",
    "    elif (d>=0)&(y!=0):\n",
    "        z=(d**.5)/2*a\n",
    "        g=b-z\n",
    "        h=b+z\n",
    "        if g==h:\n",
    "            print('There is only one value of x.\\n x:',g)\n",
    "        else:\n",
    "            print('There are two values of x.\\n x: {}, {}'.format(g,h))"
   ]
  },
  {
   "cell_type": "code",
   "execution_count": 2,
   "metadata": {},
   "outputs": [
    {
     "name": "stdout",
     "output_type": "stream",
     "text": [
      "There are two values of x.\n",
      " x: 2.5, 3.5\n"
     ]
    }
   ],
   "source": [
    "qForm(1.0,3.0,2.0)\n"
   ]
  },
  {
   "cell_type": "code",
   "execution_count": 3,
   "metadata": {},
   "outputs": [
    {
     "name": "stdout",
     "output_type": "stream",
     "text": [
      "There is only one value of x.\n",
      " x: 0.5\n"
     ]
    }
   ],
   "source": [
    "qForm(0.5,0.5,0.125)"
   ]
  },
  {
   "cell_type": "code",
   "execution_count": 4,
   "metadata": {},
   "outputs": [
    {
     "name": "stdout",
     "output_type": "stream",
     "text": [
      "Undefined\n"
     ]
    }
   ],
   "source": [
    "qForm(1.0,3.0,10.0)"
   ]
  },
  {
   "cell_type": "code",
   "execution_count": null,
   "metadata": {},
   "outputs": [],
   "source": []
  }
 ],
 "metadata": {
  "kernelspec": {
   "display_name": "Python 3",
   "language": "python",
   "name": "python3"
  },
  "language_info": {
   "codemirror_mode": {
    "name": "ipython",
    "version": 3
   },
   "file_extension": ".py",
   "mimetype": "text/x-python",
   "name": "python",
   "nbconvert_exporter": "python",
   "pygments_lexer": "ipython3",
   "version": "3.7.3"
  }
 },
 "nbformat": 4,
 "nbformat_minor": 2
}
