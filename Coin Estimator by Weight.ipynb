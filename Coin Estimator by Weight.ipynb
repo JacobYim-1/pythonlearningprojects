{
 "cells": [
  {
   "cell_type": "code",
   "execution_count": 1,
   "metadata": {},
   "outputs": [],
   "source": [
    "#Example\n",
    "#1276.9g\n",
    "#563 dimes\n",
    "#2.268g each dime\n",
    "#11 dime wrappers\n",
    "#\n",
    "#\n"
   ]
  },
  {
   "cell_type": "code",
   "execution_count": 2,
   "metadata": {},
   "outputs": [],
   "source": [
    "# Penny\n",
    "# 2.500 g\n",
    "# 50 per Roll\n",
    "# $0.50 per Roll\n",
    "def penny():\n",
    "    p=float(input('How many grams of PENNIED coins?\\n'))\n",
    "    #amount of pennies\n",
    "    amountP=int(p/2.500)\n",
    "    print('Amount of Pennies from Weight: {} Pennies'.format(amountP))\n",
    "    \n",
    "    #how many per rolls of pennies\n",
    "    rollP=int(amountP/50)\n",
    "    print('Amount of rolls made: {} Rolls'.format(rollP))"
   ]
  },
  {
   "cell_type": "code",
   "execution_count": 3,
   "metadata": {},
   "outputs": [],
   "source": [
    "# NICKEL\n",
    "# 5.000 g\n",
    "# 40 per Roll\n",
    "# $2.00 per Roll\n",
    "def nickel():\n",
    "    n=float(input('How many grams of NICKELED coins?\\n'))\n",
    "    #amount of nickels\n",
    "    amountN=int(n/5.000)\n",
    "    print('Amount of Nickels from Weight: {} Nickels'.format(amountN))\n",
    "    \n",
    "    #how many per rolls of nickel\n",
    "    rollN=int(amountN/40)\n",
    "    print('Amount of rolls made: {} Rolls'.format(rollN))"
   ]
  },
  {
   "cell_type": "code",
   "execution_count": 4,
   "metadata": {},
   "outputs": [],
   "source": [
    "# DIME\n",
    "# 2.268 g\n",
    "# 50 per Roll\n",
    "# $5.00 per Roll\n",
    "def dime():\n",
    "    d=float(input('How many grams of DIME coins?\\n'))\n",
    "    #amount of dimes\n",
    "    amountD=int(d/2.268)\n",
    "    print('Amount of Dimes from Weight: {} Dimes'.format(amountD))\n",
    "    \n",
    "    #how many per rolls of dimes\n",
    "    rollD=int(amountD/50)\n",
    "    print('Amount of rolls made: {} Rolls'.format(rollD))"
   ]
  },
  {
   "cell_type": "code",
   "execution_count": 5,
   "metadata": {},
   "outputs": [],
   "source": [
    "# QUARTER\n",
    "# 5.670 g\n",
    "# 40 per Roll\n",
    "# $10.00 per Roll\n",
    "def quarter():\n",
    "    q=float(input('How many grams of QUARTER coins?\\n'))\n",
    "    #amount of Quarters\n",
    "    amountQ=int(q/5.670)\n",
    "    print('Amount of Quarters from Weight: {} Quarters'.format(amountQ))\n",
    "    \n",
    "    #How many rolls of Quarters\n",
    "    rollQ=int(amountQ/40)\n",
    "    print('Amount of rolls made: {}'.format(rollQ))"
   ]
  },
  {
   "cell_type": "code",
   "execution_count": 6,
   "metadata": {},
   "outputs": [],
   "source": [
    "#HALF DOLLAR\n",
    "# 11.340 g\n",
    "# 20 per Roll\n",
    "# $10.00 per Roll\n",
    "def half_dollar():\n",
    "    hd=float(input('How many grams of HALF DOLLAR coins?\\n'))\n",
    "    #amount of Half Dollars\n",
    "    amountHD=int(hd/5.670)\n",
    "    print('Amount of Half Dollars from Weight: {} Half Dollars'.format(amountHD))\n",
    "    \n",
    "    #How many rolls of Quarters\n",
    "    rollHD=int(amountHD/20)\n",
    "    print('Amount of rolls made: {}'.format(rollHD))"
   ]
  },
  {
   "cell_type": "code",
   "execution_count": 7,
   "metadata": {},
   "outputs": [],
   "source": [
    "#DOLLAR\n",
    "# 8.1 g\n",
    "# 20 per Roll\n",
    "# $20.00 per Roll\n",
    "def dollar():\n",
    "    do=float(input('How many grams of DOLLAR coins?\\n'))\n",
    "    #amount of Dollars\n",
    "    amountDO=int(do/5.670)\n",
    "    print('Amount of Dollars from Weight: {} Dollars'.format(amountDO))\n",
    "    \n",
    "    #How many rolls of Quarters\n",
    "    rollDO=int(amountDO/20)\n",
    "    print('Amount of rolls made: {}'.format(rollDO))"
   ]
  },
  {
   "cell_type": "code",
   "execution_count": 8,
   "metadata": {},
   "outputs": [],
   "source": [
    "def whatC():\n",
    "    print('Which coin would you like to weigh?')\n",
    "    wc=input('Selections: Penny, Nickel, Dime, Quarter, Half Dollar, Full Dollar.\\n')\n",
    "    if 'penny' in wc.lower():\n",
    "        penny()\n",
    "    elif 'nickel' in wc.lower():\n",
    "        nickel()\n",
    "    elif 'dime' in wc.lower():\n",
    "        dime()\n",
    "    elif 'quarter' in wc.lower():\n",
    "        quarter()\n",
    "    elif 'half dollar' in wc.lower():\n",
    "        half_dollar()\n",
    "    elif 'full dollar' in wc.lower():\n",
    "        dollar()\n",
    "    else:\n",
    "        print('This coin is not within our selection of choices:')\n",
    "        print('Selections: Penny, Nickel, Dime, Quarter, Half Dollar, Full Dollar.')"
   ]
  },
  {
   "cell_type": "code",
   "execution_count": 9,
   "metadata": {},
   "outputs": [
    {
     "name": "stdout",
     "output_type": "stream",
     "text": [
      "Which coin would you like to weigh?\n",
      "Selections: Penny, Nickel, Dime, Quarter, Half Dollar, Full Dollar.\n",
      "Quarter\n",
      "How many grams of QUARTER coins?\n",
      "10004.5\n",
      "Amount of Quarters from Weight: 1764 Quarters\n",
      "Amount of rolls made: 44\n"
     ]
    }
   ],
   "source": [
    "whatC()"
   ]
  },
  {
   "cell_type": "code",
   "execution_count": null,
   "metadata": {},
   "outputs": [],
   "source": []
  },
  {
   "cell_type": "code",
   "execution_count": null,
   "metadata": {},
   "outputs": [],
   "source": []
  }
 ],
 "metadata": {
  "kernelspec": {
   "display_name": "Python 3",
   "language": "python",
   "name": "python3"
  },
  "language_info": {
   "codemirror_mode": {
    "name": "ipython",
    "version": 3
   },
   "file_extension": ".py",
   "mimetype": "text/x-python",
   "name": "python",
   "nbconvert_exporter": "python",
   "pygments_lexer": "ipython3",
   "version": "3.7.3"
  }
 },
 "nbformat": 4,
 "nbformat_minor": 2
}
