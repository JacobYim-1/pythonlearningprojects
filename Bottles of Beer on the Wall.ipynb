{
 "cells": [
  {
   "cell_type": "code",
   "execution_count": 42,
   "metadata": {},
   "outputs": [],
   "source": [
    "def bottle():\n",
    "    x=int(input('How many bottle(s) of beer on the wall? Please only enter a number.\\n'))\n",
    "    while x>0:\n",
    "        if x==1:\n",
    "            print('{} bottle of beer on the wall!'.format(x))\n",
    "            break\n",
    "        print('{} bottles of beer on the wall!'.format(x))\n",
    "        x=x-1\n",
    "        "
   ]
  },
  {
   "cell_type": "code",
   "execution_count": 44,
   "metadata": {},
   "outputs": [
    {
     "name": "stdout",
     "output_type": "stream",
     "text": [
      "How many bottle(s) of beer on the wall? Please only enter a number.\n",
      "10\n",
      "10 bottles of beer on the wall!\n",
      "9 bottles of beer on the wall!\n",
      "8 bottles of beer on the wall!\n",
      "7 bottles of beer on the wall!\n",
      "6 bottles of beer on the wall!\n",
      "5 bottles of beer on the wall!\n",
      "4 bottles of beer on the wall!\n",
      "3 bottles of beer on the wall!\n",
      "2 bottles of beer on the wall!\n",
      "1 bottle of beer on the wall!\n"
     ]
    }
   ],
   "source": [
    "bottle()"
   ]
  },
  {
   "cell_type": "code",
   "execution_count": null,
   "metadata": {},
   "outputs": [],
   "source": []
  }
 ],
 "metadata": {
  "kernelspec": {
   "display_name": "Python 3",
   "language": "python",
   "name": "python3"
  },
  "language_info": {
   "codemirror_mode": {
    "name": "ipython",
    "version": 3
   },
   "file_extension": ".py",
   "mimetype": "text/x-python",
   "name": "python",
   "nbconvert_exporter": "python",
   "pygments_lexer": "ipython3",
   "version": "3.7.3"
  }
 },
 "nbformat": 4,
 "nbformat_minor": 2
}
